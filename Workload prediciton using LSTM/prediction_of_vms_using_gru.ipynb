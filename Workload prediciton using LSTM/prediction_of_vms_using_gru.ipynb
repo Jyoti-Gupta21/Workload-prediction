{
 "cells": [
  {
   "cell_type": "markdown",
   "metadata": {
    "colab_type": "text",
    "id": "qzpHlD3UT9x5"
   },
   "source": [
    "**Importing libraries**"
   ]
  },
  {
   "cell_type": "code",
   "execution_count": 1,
   "metadata": {
    "colab": {
     "base_uri": "https://localhost:8080/",
     "height": 34
    },
    "colab_type": "code",
    "executionInfo": {
     "elapsed": 3438,
     "status": "ok",
     "timestamp": 1592479770356,
     "user": {
      "displayName": "biswajit padhi",
      "photoUrl": "",
      "userId": "13405267854865162652"
     },
     "user_tz": -330
    },
    "id": "GQgrsUfUMBnK",
    "outputId": "997c3d41-8269-465e-963d-82adea9146a9"
   },
   "outputs": [],
   "source": [
    "import math\n",
    "import numpy as np\n",
    "import pandas as pd\n",
    "import matplotlib.pyplot as plt\n",
    "from sklearn.preprocessing import MinMaxScaler\n",
    "from sklearn.metrics import mean_squared_error\n",
    "import keras"
   ]
  },
  {
   "cell_type": "markdown",
   "metadata": {
    "colab_type": "text",
    "id": "wv0DtcXMUELQ"
   },
   "source": [
    "**Reading data**"
   ]
  },
  {
   "cell_type": "code",
   "execution_count": 2,
   "metadata": {
    "colab": {},
    "colab_type": "code",
    "id": "jKujQtnFqoWo"
   },
   "outputs": [],
   "source": [
    "tt1 = pd.read_csv('AzureReadings_at_a_timestamp1.csv')"
   ]
  },
  {
   "cell_type": "code",
   "execution_count": 3,
   "metadata": {
    "colab": {
     "base_uri": "https://localhost:8080/",
     "height": 195
    },
    "colab_type": "code",
    "executionInfo": {
     "elapsed": 60131,
     "status": "ok",
     "timestamp": 1592479827078,
     "user": {
      "displayName": "biswajit padhi",
      "photoUrl": "",
      "userId": "13405267854865162652"
     },
     "user_tz": -330
    },
    "id": "nnOBL1NIfP6u",
    "outputId": "b408e784-9932-47c1-e2d2-63a09f254097"
   },
   "outputs": [
    {
     "data": {
      "text/html": [
       "<div>\n",
       "<style scoped>\n",
       "    .dataframe tbody tr th:only-of-type {\n",
       "        vertical-align: middle;\n",
       "    }\n",
       "\n",
       "    .dataframe tbody tr th {\n",
       "        vertical-align: top;\n",
       "    }\n",
       "\n",
       "    .dataframe thead th {\n",
       "        text-align: right;\n",
       "    }\n",
       "</style>\n",
       "<table border=\"1\" class=\"dataframe\">\n",
       "  <thead>\n",
       "    <tr style=\"text-align: right;\">\n",
       "      <th></th>\n",
       "      <th>timestamp</th>\n",
       "      <th>norm_min_cpu</th>\n",
       "      <th>norm_max_cpu</th>\n",
       "      <th>norm_avg</th>\n",
       "    </tr>\n",
       "  </thead>\n",
       "  <tbody>\n",
       "    <tr>\n",
       "      <th>0</th>\n",
       "      <td>1/1/2017 0:00</td>\n",
       "      <td>0.2283</td>\n",
       "      <td>0.2346</td>\n",
       "      <td>0.2314</td>\n",
       "    </tr>\n",
       "    <tr>\n",
       "      <th>1</th>\n",
       "      <td>1/1/2017 0:05</td>\n",
       "      <td>0.2023</td>\n",
       "      <td>0.2282</td>\n",
       "      <td>0.2152</td>\n",
       "    </tr>\n",
       "    <tr>\n",
       "      <th>2</th>\n",
       "      <td>1/1/2017 0:10</td>\n",
       "      <td>0.2120</td>\n",
       "      <td>0.2286</td>\n",
       "      <td>0.2203</td>\n",
       "    </tr>\n",
       "    <tr>\n",
       "      <th>3</th>\n",
       "      <td>1/1/2017 0:15</td>\n",
       "      <td>0.1809</td>\n",
       "      <td>0.2137</td>\n",
       "      <td>0.1973</td>\n",
       "    </tr>\n",
       "    <tr>\n",
       "      <th>4</th>\n",
       "      <td>1/1/2017 0:20</td>\n",
       "      <td>0.1807</td>\n",
       "      <td>0.2114</td>\n",
       "      <td>0.1960</td>\n",
       "    </tr>\n",
       "  </tbody>\n",
       "</table>\n",
       "</div>"
      ],
      "text/plain": [
       "       timestamp  norm_min_cpu  norm_max_cpu  norm_avg\n",
       "0  1/1/2017 0:00        0.2283        0.2346    0.2314\n",
       "1  1/1/2017 0:05        0.2023        0.2282    0.2152\n",
       "2  1/1/2017 0:10        0.2120        0.2286    0.2203\n",
       "3  1/1/2017 0:15        0.1809        0.2137    0.1973\n",
       "4  1/1/2017 0:20        0.1807        0.2114    0.1960"
      ]
     },
     "execution_count": 3,
     "metadata": {},
     "output_type": "execute_result"
    }
   ],
   "source": [
    "tt1.head()"
   ]
  },
  {
   "cell_type": "code",
   "execution_count": 4,
   "metadata": {
    "colab": {},
    "colab_type": "code",
    "id": "_yUcsAtsRpdv"
   },
   "outputs": [],
   "source": [
    "tt1['timestamp'] =  pd.to_datetime(tt1['timestamp'])"
   ]
  },
  {
   "cell_type": "code",
   "execution_count": 5,
   "metadata": {
    "colab": {},
    "colab_type": "code",
    "id": "tHkMi_-fR1tl"
   },
   "outputs": [],
   "source": [
    "tt1 = tt1.set_index('timestamp')"
   ]
  },
  {
   "cell_type": "code",
   "execution_count": 6,
   "metadata": {
    "colab": {
     "base_uri": "https://localhost:8080/",
     "height": 225
    },
    "colab_type": "code",
    "executionInfo": {
     "elapsed": 60119,
     "status": "ok",
     "timestamp": 1592479827082,
     "user": {
      "displayName": "biswajit padhi",
      "photoUrl": "",
      "userId": "13405267854865162652"
     },
     "user_tz": -330
    },
    "id": "0j0wuUhKSZt8",
    "outputId": "2a45c961-ddce-475f-ea35-7b12e05b2c71"
   },
   "outputs": [
    {
     "data": {
      "text/html": [
       "<div>\n",
       "<style scoped>\n",
       "    .dataframe tbody tr th:only-of-type {\n",
       "        vertical-align: middle;\n",
       "    }\n",
       "\n",
       "    .dataframe tbody tr th {\n",
       "        vertical-align: top;\n",
       "    }\n",
       "\n",
       "    .dataframe thead th {\n",
       "        text-align: right;\n",
       "    }\n",
       "</style>\n",
       "<table border=\"1\" class=\"dataframe\">\n",
       "  <thead>\n",
       "    <tr style=\"text-align: right;\">\n",
       "      <th></th>\n",
       "      <th>norm_min_cpu</th>\n",
       "      <th>norm_max_cpu</th>\n",
       "      <th>norm_avg</th>\n",
       "    </tr>\n",
       "    <tr>\n",
       "      <th>timestamp</th>\n",
       "      <th></th>\n",
       "      <th></th>\n",
       "      <th></th>\n",
       "    </tr>\n",
       "  </thead>\n",
       "  <tbody>\n",
       "    <tr>\n",
       "      <th>2017-01-01 00:00:00</th>\n",
       "      <td>0.2283</td>\n",
       "      <td>0.2346</td>\n",
       "      <td>0.2314</td>\n",
       "    </tr>\n",
       "    <tr>\n",
       "      <th>2017-01-01 00:05:00</th>\n",
       "      <td>0.2023</td>\n",
       "      <td>0.2282</td>\n",
       "      <td>0.2152</td>\n",
       "    </tr>\n",
       "    <tr>\n",
       "      <th>2017-01-01 00:10:00</th>\n",
       "      <td>0.2120</td>\n",
       "      <td>0.2286</td>\n",
       "      <td>0.2203</td>\n",
       "    </tr>\n",
       "    <tr>\n",
       "      <th>2017-01-01 00:15:00</th>\n",
       "      <td>0.1809</td>\n",
       "      <td>0.2137</td>\n",
       "      <td>0.1973</td>\n",
       "    </tr>\n",
       "    <tr>\n",
       "      <th>2017-01-01 00:20:00</th>\n",
       "      <td>0.1807</td>\n",
       "      <td>0.2114</td>\n",
       "      <td>0.1960</td>\n",
       "    </tr>\n",
       "  </tbody>\n",
       "</table>\n",
       "</div>"
      ],
      "text/plain": [
       "                     norm_min_cpu  norm_max_cpu  norm_avg\n",
       "timestamp                                                \n",
       "2017-01-01 00:00:00        0.2283        0.2346    0.2314\n",
       "2017-01-01 00:05:00        0.2023        0.2282    0.2152\n",
       "2017-01-01 00:10:00        0.2120        0.2286    0.2203\n",
       "2017-01-01 00:15:00        0.1809        0.2137    0.1973\n",
       "2017-01-01 00:20:00        0.1807        0.2114    0.1960"
      ]
     },
     "execution_count": 6,
     "metadata": {},
     "output_type": "execute_result"
    }
   ],
   "source": [
    "tt1.head()"
   ]
  },
  {
   "cell_type": "code",
   "execution_count": 7,
   "metadata": {
    "colab": {},
    "colab_type": "code",
    "id": "QQdihjXYrQDD"
   },
   "outputs": [],
   "source": [
    "tt = tt1"
   ]
  },
  {
   "cell_type": "code",
   "execution_count": 8,
   "metadata": {
    "colab": {},
    "colab_type": "code",
    "id": "5oP1aHC8Mjf7"
   },
   "outputs": [],
   "source": [
    "dataset = tt.values\n",
    "dataset = dataset.astype('float32')"
   ]
  },
  {
   "cell_type": "code",
   "execution_count": 9,
   "metadata": {
    "colab": {
     "base_uri": "https://localhost:8080/",
     "height": 34
    },
    "colab_type": "code",
    "executionInfo": {
     "elapsed": 60110,
     "status": "ok",
     "timestamp": 1592479827088,
     "user": {
      "displayName": "biswajit padhi",
      "photoUrl": "",
      "userId": "13405267854865162652"
     },
     "user_tz": -330
    },
    "id": "bci2zhVAcn0F",
    "outputId": "a3a971d0-a15b-4989-d2b2-c1ac9d63d0de"
   },
   "outputs": [
    {
     "data": {
      "text/plain": [
       "8640"
      ]
     },
     "execution_count": 9,
     "metadata": {},
     "output_type": "execute_result"
    }
   ],
   "source": [
    "len(dataset)"
   ]
  },
  {
   "cell_type": "code",
   "execution_count": 10,
   "metadata": {
    "colab": {},
    "colab_type": "code",
    "id": "3KtGWqe_MmwK"
   },
   "outputs": [],
   "source": [
    "scaler = MinMaxScaler(feature_range=(0, 1))\n",
    "dataset = scaler.fit_transform(dataset)"
   ]
  },
  {
   "cell_type": "code",
   "execution_count": 11,
   "metadata": {
    "colab": {
     "base_uri": "https://localhost:8080/",
     "height": 34
    },
    "colab_type": "code",
    "executionInfo": {
     "elapsed": 60101,
     "status": "ok",
     "timestamp": 1592479827090,
     "user": {
      "displayName": "biswajit padhi",
      "photoUrl": "",
      "userId": "13405267854865162652"
     },
     "user_tz": -330
    },
    "id": "sUZM4YFhMosU",
    "outputId": "a0496d0a-baee-4a03-feea-c7183a1689e5"
   },
   "outputs": [
    {
     "name": "stdout",
     "output_type": "stream",
     "text": [
      "6912 1728\n"
     ]
    }
   ],
   "source": [
    "train_size = int(len(dataset) * 0.8)\n",
    "test_size = len(dataset) - train_size\n",
    "train, test = dataset[0:train_size, :], dataset[train_size:len(dataset), :]\n",
    "print(len(train), len(test))"
   ]
  },
  {
   "cell_type": "code",
   "execution_count": 12,
   "metadata": {
    "colab": {},
    "colab_type": "code",
    "id": "BkV5ienINJur"
   },
   "outputs": [],
   "source": [
    "def create_training_dataset(dataset, look_back=1):\n",
    "    dataX, dataY = [], []\n",
    "    for i in range(len(dataset)-look_back-1):\n",
    "        a = dataset[i:(i+look_back), :3]\n",
    "        dataX.append(a)\n",
    "        dataY.append(dataset[i + look_back, :])\n",
    "    return np.array(dataX), np.array(dataY)"
   ]
  },
  {
   "cell_type": "code",
   "execution_count": 13,
   "metadata": {
    "colab": {},
    "colab_type": "code",
    "id": "w9RCE5CXNMAc"
   },
   "outputs": [],
   "source": [
    "look_back = 5\n",
    "trainX, trainY = create_training_dataset(train, look_back=look_back)\n",
    "testX, testY = create_training_dataset(test, look_back=look_back)"
   ]
  },
  {
   "cell_type": "markdown",
   "metadata": {
    "colab_type": "text",
    "id": "NN9fWvvpULU1"
   },
   "source": [
    "**Building Model**"
   ]
  },
  {
   "cell_type": "code",
   "execution_count": 14,
   "metadata": {
    "colab": {},
    "colab_type": "code",
    "id": "hwU8vmL6NPob"
   },
   "outputs": [],
   "source": [
    "model = keras.models.Sequential()\n",
    "model.add(keras.layers.GRU(128, input_shape=(trainX.shape[1], trainX.shape[2])))\n",
    "model.add(keras.layers.Dense(3))"
   ]
  },
  {
   "cell_type": "code",
   "execution_count": 15,
   "metadata": {
    "colab": {},
    "colab_type": "code",
    "id": "YvUMpinkNhrD"
   },
   "outputs": [],
   "source": [
    "adamOpt = keras.optimizers.Adam(lr=0.001, beta_1=0.9, beta_2=0.999, decay=0.0, amsgrad=False)\n",
    "model.compile(loss='mean_squared_error', optimizer=adamOpt, metrics=['mae'])"
   ]
  },
  {
   "cell_type": "code",
   "execution_count": 16,
   "metadata": {
    "colab": {
     "base_uri": "https://localhost:8080/",
     "height": 218
    },
    "colab_type": "code",
    "executionInfo": {
     "elapsed": 60848,
     "status": "ok",
     "timestamp": 1592479827859,
     "user": {
      "displayName": "biswajit padhi",
      "photoUrl": "",
      "userId": "13405267854865162652"
     },
     "user_tz": -330
    },
    "id": "ClZOiJPG2Qvr",
    "outputId": "48b1282f-f359-4c11-d522-06dc037ec45c"
   },
   "outputs": [
    {
     "name": "stdout",
     "output_type": "stream",
     "text": [
      "Model: \"sequential\"\n",
      "_________________________________________________________________\n",
      "Layer (type)                 Output Shape              Param #   \n",
      "=================================================================\n",
      "gru (GRU)                    (None, 128)               51072     \n",
      "_________________________________________________________________\n",
      "dense (Dense)                (None, 3)                 387       \n",
      "=================================================================\n",
      "Total params: 51,459\n",
      "Trainable params: 51,459\n",
      "Non-trainable params: 0\n",
      "_________________________________________________________________\n"
     ]
    }
   ],
   "source": [
    "model.summary()"
   ]
  },
  {
   "cell_type": "markdown",
   "metadata": {
    "colab_type": "text",
    "id": "kW89d-koUQai"
   },
   "source": [
    "**Training Model**"
   ]
  },
  {
   "cell_type": "code",
   "execution_count": 17,
   "metadata": {
    "colab": {
     "base_uri": "https://localhost:8080/",
     "height": 706
    },
    "colab_type": "code",
    "executionInfo": {
     "elapsed": 80669,
     "status": "ok",
     "timestamp": 1592479847690,
     "user": {
      "displayName": "biswajit padhi",
      "photoUrl": "",
      "userId": "13405267854865162652"
     },
     "user_tz": -330
    },
    "id": "ZwdvAhlyNj84",
    "outputId": "1a2a1e5b-2f75-4296-c2ab-7505b9d98d91"
   },
   "outputs": [
    {
     "name": "stdout",
     "output_type": "stream",
     "text": [
      "Epoch 1/20\n",
      "81/81 - 2s - loss: 0.0051 - mae: 0.0444 - val_loss: 6.2251e-04 - val_mae: 0.0198\n",
      "Epoch 2/20\n",
      "81/81 - 1s - loss: 7.6579e-04 - mae: 0.0184 - val_loss: 5.1414e-04 - val_mae: 0.0178\n",
      "Epoch 3/20\n",
      "81/81 - 1s - loss: 6.8615e-04 - mae: 0.0172 - val_loss: 4.9097e-04 - val_mae: 0.0174\n",
      "Epoch 4/20\n",
      "81/81 - 1s - loss: 6.4999e-04 - mae: 0.0166 - val_loss: 4.7099e-04 - val_mae: 0.0170\n",
      "Epoch 5/20\n",
      "81/81 - 1s - loss: 6.2046e-04 - mae: 0.0163 - val_loss: 4.6031e-04 - val_mae: 0.0169\n",
      "Epoch 6/20\n",
      "81/81 - 1s - loss: 5.8769e-04 - mae: 0.0159 - val_loss: 4.5440e-04 - val_mae: 0.0165\n",
      "Epoch 7/20\n",
      "81/81 - 1s - loss: 5.6139e-04 - mae: 0.0155 - val_loss: 4.4122e-04 - val_mae: 0.0163\n",
      "Epoch 8/20\n",
      "81/81 - 1s - loss: 5.4673e-04 - mae: 0.0154 - val_loss: 4.5674e-04 - val_mae: 0.0168\n",
      "Epoch 9/20\n",
      "81/81 - 1s - loss: 5.2691e-04 - mae: 0.0151 - val_loss: 4.3310e-04 - val_mae: 0.0157\n",
      "Epoch 10/20\n",
      "81/81 - 1s - loss: 5.1591e-04 - mae: 0.0150 - val_loss: 4.3170e-04 - val_mae: 0.0159\n",
      "Epoch 11/20\n",
      "81/81 - 1s - loss: 5.0914e-04 - mae: 0.0149 - val_loss: 4.1282e-04 - val_mae: 0.0154\n",
      "Epoch 12/20\n",
      "81/81 - 1s - loss: 5.0590e-04 - mae: 0.0149 - val_loss: 4.1074e-04 - val_mae: 0.0154\n",
      "Epoch 13/20\n",
      "81/81 - 1s - loss: 4.9260e-04 - mae: 0.0147 - val_loss: 4.0893e-04 - val_mae: 0.0154\n",
      "Epoch 14/20\n",
      "81/81 - 1s - loss: 4.9189e-04 - mae: 0.0147 - val_loss: 4.0738e-04 - val_mae: 0.0154\n",
      "Epoch 15/20\n",
      "81/81 - 1s - loss: 4.7928e-04 - mae: 0.0146 - val_loss: 4.1053e-04 - val_mae: 0.0157\n",
      "Epoch 16/20\n",
      "81/81 - 1s - loss: 4.7670e-04 - mae: 0.0145 - val_loss: 4.0037e-04 - val_mae: 0.0154\n",
      "Epoch 17/20\n",
      "81/81 - 1s - loss: 4.6919e-04 - mae: 0.0145 - val_loss: 4.0307e-04 - val_mae: 0.0150\n",
      "Epoch 18/20\n",
      "81/81 - 1s - loss: 4.6483e-04 - mae: 0.0145 - val_loss: 3.9190e-04 - val_mae: 0.0150\n",
      "Epoch 19/20\n",
      "81/81 - 1s - loss: 4.6306e-04 - mae: 0.0145 - val_loss: 3.9544e-04 - val_mae: 0.0152\n",
      "Epoch 20/20\n",
      "81/81 - 1s - loss: 4.7456e-04 - mae: 0.0147 - val_loss: 4.5242e-04 - val_mae: 0.0157\n"
     ]
    }
   ],
   "source": [
    "history = model.fit(trainX, trainY, validation_split=0.25,epochs=20, batch_size=64, verbose=2)"
   ]
  },
  {
   "cell_type": "markdown",
   "metadata": {
    "colab_type": "text",
    "id": "Gj8PWhdEUVQR"
   },
   "source": [
    "**Predicting**"
   ]
  },
  {
   "cell_type": "code",
   "execution_count": 18,
   "metadata": {
    "colab": {},
    "colab_type": "code",
    "id": "3ymoq6Z3Nk9R"
   },
   "outputs": [],
   "source": [
    "trainPredict = model.predict(trainX)\n",
    "testPredict = model.predict(testX)"
   ]
  },
  {
   "cell_type": "code",
   "execution_count": 19,
   "metadata": {
    "colab": {},
    "colab_type": "code",
    "id": "0moVT6ldNseq"
   },
   "outputs": [],
   "source": [
    "trainY = scaler.inverse_transform(trainY)\n",
    "trainPredict = scaler.inverse_transform(trainPredict)\n",
    "testY = scaler.inverse_transform(testY)\n",
    "testPredict = scaler.inverse_transform(testPredict)"
   ]
  },
  {
   "cell_type": "markdown",
   "metadata": {
    "colab_type": "text",
    "id": "0J4ekRqaUbHX"
   },
   "source": [
    "**Evaluating Model**"
   ]
  },
  {
   "cell_type": "markdown",
   "metadata": {
    "colab_type": "text",
    "id": "0KWavjs3Ui6V"
   },
   "source": [
    "1. Evaluation metrics: RMSE(Root Mean Square Error)"
   ]
  },
  {
   "cell_type": "code",
   "execution_count": 26,
   "metadata": {
    "colab": {
     "base_uri": "https://localhost:8080/",
     "height": 50
    },
    "colab_type": "code",
    "executionInfo": {
     "elapsed": 80658,
     "status": "ok",
     "timestamp": 1592479847693,
     "user": {
      "displayName": "biswajit padhi",
      "photoUrl": "",
      "userId": "13405267854865162652"
     },
     "user_tz": -330
    },
    "id": "U46scotYNwms",
    "outputId": "b8af7f68-5e85-4f85-b430-a878d4e5d1be"
   },
   "outputs": [
    {
     "name": "stdout",
     "output_type": "stream",
     "text": [
      "Train Score: 0.021127 RMSE\n",
      "Test Score: 0.022618 RMSE\n"
     ]
    }
   ],
   "source": [
    "trainScore = math.sqrt(mean_squared_error(trainY[:], trainPredict[:]))\n",
    "print('Train Score: %f RMSE' % (trainScore))\n",
    "testScore = math.sqrt(mean_squared_error(testY[:], testPredict[:]))\n",
    "print('Test Score: %f RMSE' % (testScore))"
   ]
  },
  {
   "cell_type": "markdown",
   "metadata": {
    "colab_type": "text",
    "id": "QFdkVEgDaBZK"
   },
   "source": [
    "2. Evaluation metrics: MAE(Mean Absolute Error)"
   ]
  },
  {
   "cell_type": "code",
   "execution_count": 21,
   "metadata": {
    "colab": {
     "base_uri": "https://localhost:8080/",
     "height": 50
    },
    "colab_type": "code",
    "executionInfo": {
     "elapsed": 80647,
     "status": "ok",
     "timestamp": 1592479847694,
     "user": {
      "displayName": "biswajit padhi",
      "photoUrl": "",
      "userId": "13405267854865162652"
     },
     "user_tz": -330
    },
    "id": "urSB6BcwWOHk",
    "outputId": "d5dac2f1-90e2-4800-c3af-95e07009b8ff"
   },
   "outputs": [
    {
     "name": "stdout",
     "output_type": "stream",
     "text": [
      "Train Score: 0.014221 MAE\n",
      "Test Score: 0.124529 MAE\n"
     ]
    }
   ],
   "source": [
    "from sklearn.metrics import mean_absolute_error\n",
    "trainScore = (mean_absolute_error(trainY[:], trainPredict[:]))\n",
    "print('Train Score: %f MAE' % (trainScore))\n",
    "testScore = math.sqrt(mean_absolute_error(testY[:], testPredict[:]))\n",
    "print('Test Score: %f MAE' % (testScore))"
   ]
  },
  {
   "cell_type": "markdown",
   "metadata": {
    "colab_type": "text",
    "id": "gvXNbU6MUodL"
   },
   "source": [
    "3. Evaluation metric: MAPE(Mean absolute percentage error)"
   ]
  },
  {
   "cell_type": "markdown",
   "metadata": {
    "colab_type": "text",
    "id": "h0AuAAz_UDBo"
   },
   "source": [
    "**Percentage errors**\n",
    "\n",
    "The percentage error is given by  \n",
    "p\n",
    "t\n",
    "=\n",
    "100\n",
    "e\n",
    "t\n",
    "/\n",
    "y\n",
    "t\n",
    " . \n",
    "\n",
    "Percentage errors have the advantage of being unit-free, and \n",
    "so are frequently used to compare forecast performances between data sets. \n",
    "\n",
    "The most commonly used measure is:\n",
    "Mean absolute percentage error: MAPE\n",
    "=\n",
    "mean\n",
    "(\n",
    "|\n",
    "p\n",
    "t\n",
    "|\n",
    ")\n"
   ]
  },
  {
   "cell_type": "code",
   "execution_count": 22,
   "metadata": {
    "colab": {
     "base_uri": "https://localhost:8080/",
     "height": 50
    },
    "colab_type": "code",
    "executionInfo": {
     "elapsed": 80636,
     "status": "ok",
     "timestamp": 1592479847694,
     "user": {
      "displayName": "biswajit padhi",
      "photoUrl": "",
      "userId": "13405267854865162652"
     },
     "user_tz": -330
    },
    "id": "NmOvxmjTbMbP",
    "outputId": "1ef96dda-a929-45f4-8c3d-87985acd9d8c"
   },
   "outputs": [
    {
     "name": "stdout",
     "output_type": "stream",
     "text": [
      "Train Score: inf MAPE\n",
      "Test Score: 0.058535 MAPE\n"
     ]
    },
    {
     "name": "stderr",
     "output_type": "stream",
     "text": [
      "C:\\Users\\91956\\AppData\\Local\\Temp/ipykernel_13408/1226192089.py:1: RuntimeWarning: divide by zero encountered in true_divide\n",
      "  trainScore2 = np.mean(np.abs(trainPredict - trainY)/np.abs(trainY))\n"
     ]
    }
   ],
   "source": [
    "trainScore2 = np.mean(np.abs(trainPredict - trainY)/np.abs(trainY))\n",
    "print('Train Score: %f MAPE' % (trainScore2))\n",
    "testScore2 = np.mean(np.abs(testPredict - testY)/np.abs(testY))\n",
    "print('Test Score: %f MAPE' % (testScore2))"
   ]
  },
  {
   "cell_type": "markdown",
   "metadata": {
    "colab_type": "text",
    "id": "T7okf46nVBMG"
   },
   "source": [
    "4. Evaluation metric: Correaltion"
   ]
  },
  {
   "cell_type": "code",
   "execution_count": 23,
   "metadata": {
    "colab": {
     "base_uri": "https://localhost:8080/",
     "height": 50
    },
    "colab_type": "code",
    "executionInfo": {
     "elapsed": 83386,
     "status": "ok",
     "timestamp": 1592479850455,
     "user": {
      "displayName": "biswajit padhi",
      "photoUrl": "",
      "userId": "13405267854865162652"
     },
     "user_tz": -330
    },
    "id": "jCcUsvx7bMbT",
    "outputId": "fb98bf56-0611-4935-d918-b2cf1d0a7c00"
   },
   "outputs": [
    {
     "name": "stderr",
     "output_type": "stream",
     "text": [
      "C:\\Users\\91956\\anaconda3\\lib\\site-packages\\numpy\\lib\\function_base.py:2534: RuntimeWarning: invalid value encountered in true_divide\n",
      "  c /= stddev[:, None]\n",
      "C:\\Users\\91956\\anaconda3\\lib\\site-packages\\numpy\\lib\\function_base.py:2535: RuntimeWarning: invalid value encountered in true_divide\n",
      "  c /= stddev[None, :]\n"
     ]
    },
    {
     "name": "stdout",
     "output_type": "stream",
     "text": [
      "Train Score: 0.998715 COR\n",
      "Test Score: 0.988406 COR\n"
     ]
    }
   ],
   "source": [
    "trainScore3 = np.corrcoef(trainPredict, trainY)[0,1]\n",
    "print('Train Score: %f COR' % (trainScore3))\n",
    "testScore2 = np.corrcoef(testPredict, testY)[0,1]\n",
    "print('Test Score: %f COR' % (testScore2))"
   ]
  },
  {
   "cell_type": "markdown",
   "metadata": {
    "colab_type": "text",
    "id": "NGHiN1-PVQJo"
   },
   "source": [
    "**Plotting Graphs**"
   ]
  },
  {
   "cell_type": "code",
   "execution_count": 25,
   "metadata": {
    "colab": {
     "base_uri": "https://localhost:8080/",
     "height": 877
    },
    "colab_type": "code",
    "executionInfo": {
     "elapsed": 5137,
     "status": "ok",
     "timestamp": 1592480906079,
     "user": {
      "displayName": "biswajit padhi",
      "photoUrl": "",
      "userId": "13405267854865162652"
     },
     "user_tz": -330
    },
    "id": "-Hw95qMwwjJt",
    "outputId": "550dc6e3-6602-4d4e-ba66-4106000b4fcf"
   },
   "outputs": [
    {
     "data": {
      "image/png": "[encoded data removed]",
      "text/plain": [
       "<Figure size 720x1080 with 3 Axes>"
      ]
     },
     "metadata": {
      "needs_background": "light"
     },
     "output_type": "display_data"
    }
   ],
   "source": [
    "index=tt.index\n",
    "TestY= pd.DataFrame(testY,columns=['min_cpu','max_cpu','avg_cpu'])\n",
    "PredY=pd.DataFrame(testPredict,columns=['min_cpu','max_cpu','avg_cpu'])\n",
    "\n",
    "x=index[-1722:]\n",
    "fig, axs = plt.subplots(3,figsize=(10,15))\n",
    "\n",
    "axs[0].plot(x,TestY.min_cpu,'.',label='Test min CPU',color='red')\n",
    "axs[0].plot(x,PredY.min_cpu,'--',label='Predicted min CPU',color='black')\n",
    "axs[0].legend()\n",
    "axs[1].plot(x,TestY.max_cpu,'.',label='Test max CPU',color='magenta')\n",
    "axs[1].plot(x,PredY.max_cpu,'--',label='Predicted max CPU',color='navy')\n",
    "axs[1].legend()\n",
    "axs[2].plot(x,TestY.avg_cpu,'.',label='Test avg CPU',color='orange')\n",
    "axs[2].plot(x,PredY.avg_cpu,'--',label='Predicted avg CPU',color='darkgreen')\n",
    "axs[2].legend()\n",
    "for ax in axs.flat:\n",
    "    ax.set(xlabel='Timestamp', ylabel='Workload (CPU)',autoscale_on=True)\n",
    "for ax in axs:\n",
    "    ax.label_outer()\n",
    "#fig.suptitle('Prediction of Workload on Azure cloud at a particular timestamp',fontsize=20)\n",
    "plt.savefig('LSTM output.png', dpi = 300)\n",
    "plt.show()"
   ]
  },
  {
   "cell_type": "code",
   "execution_count": null,
   "metadata": {
    "colab": {},
    "colab_type": "code",
    "id": "CYjkskTSnLfu"
   },
   "outputs": [],
   "source": []
  }
 ],
 "metadata": {
  "colab": {
   "collapsed_sections": [],
   "name": "prediction_of_vms_using_gru.ipynb",
   "provenance": []
  },
  "kernelspec": {
   "display_name": "Python 3 (ipykernel)",
   "language": "python",
   "name": "python3"
  },
  "language_info": {
   "codemirror_mode": {
    "name": "ipython",
    "version": 3
   },
   "file_extension": ".py",
   "mimetype": "text/x-python",
   "name": "python",
   "nbconvert_exporter": "python",
   "pygments_lexer": "ipython3",
   "version": "3.8.8"
  }
 },
 "nbformat": 4,
 "nbformat_minor": 1
}
